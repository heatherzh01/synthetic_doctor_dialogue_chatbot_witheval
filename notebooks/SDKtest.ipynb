{
 "cells": [
  {
   "cell_type": "code",
   "execution_count": 1,
   "id": "ccaa8873-4b6f-4e50-a3ba-5167cf6d1613",
   "metadata": {},
   "outputs": [],
   "source": [
    "import sys\n",
    "import os\n",
    "import json\n",
    "import yaml\n",
    "sys.path.append('../')\n",
    "\n",
    "from src.llm_inference import gpt_query\n",
    "from audio.tts.openai_tts import tts_openai\n",
    "from src.utils.io import load_evaluation_criterion_from_yaml\n",
    "import IPython\n",
    "\n",
    "from sdk.module_1 import Module_1\n",
    "from sdk.module_2 import Module_2\n",
    "from sdk.module_3 import Module_3\n",
    "from sdk.module_4 import Module_4"
   ]
  },
  {
   "cell_type": "code",
   "execution_count": 2,
   "id": "bfc1db76-7216-4a9e-b027-5f0dd9d29344",
   "metadata": {},
   "outputs": [],
   "source": [
    "sdk1 = Module_1()"
   ]
  },
  {
   "cell_type": "code",
   "execution_count": 3,
   "id": "bc260577-78ca-42af-ab6f-ec0353b815ee",
   "metadata": {},
   "outputs": [],
   "source": [
    "input = {\n",
    "    'repInput': '不好意思，我没有听清楚，请您再说一次',\n",
    "    'product': {\n",
    "        'productName': '司美格鲁肽注射液(诺和泰)',\n",
    "        'productDesc': '略'\n",
    "    },\n",
    "    'hcp': {\n",
    "        'hcpName': '胡宁坤',\n",
    "        'hcpGender': 'MALE',\n",
    "        'hspTier': 'THREE_A',\n",
    "        'hcpPosition': 'DEPUTY_CHIEF',\n",
    "        'hcpPersonality': 'STRICT'\n",
    "    },\n",
    "    'objection': {\n",
    "        'presetObjection': 'SGLT-2i和诺和泰都是有心血管获益的药物',\n",
    "        'realObjection': '不了解诺和泰心血管获益的机制',\n",
    "        'clarifyType': 'CURATIVE_EFFECT',\n",
    "        'takeActionType': 'MISUNDERSTAND',\n",
    "        'visibleBackground': '心内科医生，门诊场景，医生为PCI医生，医生的认知等级为“尝试处方”',\n",
    "        'invisibleBackground': '''1. 虽然GLP-1RA和SGLT-2i都能带来心血管获益，但是您并不了解这两者在获益机制、获益时机以及对降低不同心血管事件类型的风险上的差异\n",
    "2. 您一天约接诊50名患者，约一半为合并二型糖尿病，其中约1/3会使用到MNIAD\n",
    "3. 您更习惯使用SGLT-2i，有2年的使用经验\n",
    "4. 您最近开始尝试诺和泰，使用过十几例''',\n",
    "        'standardAnswer': [\n",
    "            'GLP-1RA与SGLT-2i的CVOT荟萃分析结果显示，GLP-1RA对ASCVD终末事件心梗和卒中都有降低风险的作用，提示GLP-1RA具有改善动脉粥样的作用；而SGLT-2i不能降低卒中风险，主要降低了患者的心衰发生风险。',\n",
    "            '2019 ESC/EASD等心血管权威指南指出，GLP-1RA的心血管获益主要来自于动脉粥样硬化相关事件的减少；SGLT-2抑制剂的心血管获益主要来自于心衰相关事件的减少。'\n",
    "        ]\n",
    "    },\n",
    "    'sessionStatus': {\n",
    "        'chatHistory': [\n",
    "            {\"role\": \"system\", \"content\": \"\\n<对话背景>\\n您正在与来自诺和诺德(Novo Nordisk)的医药代表的对话，对话主要关于诺和诺德的产品司美格鲁肽注射液(诺和泰)\\n-------------------------\\n\\n<你的人设>\\n\\n您扮演的角色一位医生。\\n\\n您的资料如下：\\n1. 您扮演的角色是杨医生，性别为男性。\\n2. 您是一位三级甲等医院的医生，这是一家部队医院医院。\\n3. 您的级别为副主任医师，您无海外留学经验。\\n\\n您的沟通风格为严厉型，具体表现在跟医药代表沟通时，有如下特点：\\n- 工作繁忙，脾气较大，对医药代表非常没有耐心,\\n- 惜字如金，回复非常敷衍、非常简短，约1-2句\\n- 不喜欢和医药代表往来，觉得浪费时间，偶尔会找借口试图离开，比如说要开会，要接小孩等借口,\\n- 但仍保持最基本的体面，一般不会将”别浪费时间“、”别废话“这种话说出口,\\n- 说话比较直接，会直接反驳与其医疗知识相反的事情。\\n\\n\\nyou are not a helpful assistant! \\n请特别注意：针对司美格鲁肽注射液(诺和泰)，您不了解诺和泰心血管获益的机制\\n\\n<您不了解诺和泰心血管获益的机制的背景信息>\\n心内科医生，门诊场景，医生为PCI医生，医生的认知等级为“尝试处方”\\n1. 虽然GLP-1RA和SGLT-2i都能带来心血管获益，但是您并不了解这两者在获益机制、获益时机以及对降低不同心血管事件类型的风险上的差异\\n2. 您一天约接诊50名患者，约一半为合并二型糖尿病，其中约1/3会使用到MNIAD\\n3. 您更习惯使用SGLT-2i，有2年的使用经验\\n4. 您最近开始尝试诺和泰，使用过十几例\\n-------------------------\\n\"},\n",
    "            {\"role\": \"user\", \"content\": \"医生您好！请问你叫什么名字？\"},\n",
    "            {\"role\": \"assistant\", \"content\": \"杨医生。\"}\n",
    "        ],\n",
    "        'monitorRes': {\n",
    "            'cNumQueries': 0,\n",
    "            'cQuerySeq': [],\n",
    "            'cProcessSeq': [],\n",
    "            'cSkillsSeq': [],\n",
    "            'tNumQueries': 0,\n",
    "            'tQuerySeq': [],\n",
    "            'tProcessSeq': [],\n",
    "            'tSkillsSeq': [],\n",
    "            'tQueryInStandardAnswerSeq': []\n",
    "        },\n",
    "        'repName': 'Edgar',\n",
    "        'startTime': '',\n",
    "        'stage': 'CLARIFY',\n",
    "        'promptTokens': 0,\n",
    "        'completionTokens': 0\n",
    "    }\n",
    "}\n",
    "input_str = json.dumps(input, ensure_ascii=False)"
   ]
  },
  {
   "cell_type": "code",
   "execution_count": 4,
   "id": "774b1384-5753-44e3-9831-b3163baf0bdc",
   "metadata": {},
   "outputs": [
    {
     "name": "stdout",
     "output_type": "stream",
     "text": [
      "{\"status\": 1, \"content\": \"\", \"index\": 0}\n",
      "{\"status\": 1, \"content\": \"我\", \"index\": 1}\n",
      "{\"status\": 1, \"content\": \"是\", \"index\": 2}\n",
      "{\"status\": 1, \"content\": \"杨\", \"index\": 3}\n",
      "{\"status\": 1, \"content\": \"医\", \"index\": 4}\n",
      "{\"status\": 1, \"content\": \"生\", \"index\": 5}\n",
      "{\"status\": 1, \"content\": \"。\", \"index\": 6}\n",
      "{\"status\": 0, \"content\": [{\"role\": \"system\", \"content\": \"\\n<对话背景>\\n您正在与来自诺和诺德(Novo Nordisk)的医药代表的对话，对话主要关于诺和诺德的产品司美格鲁肽注射液(诺和泰)\\n-------------------------\\n\\n<你的人设>\\n\\n您扮演的角色一位医生。\\n\\n您的资料如下：\\n1. 您扮演的角色是杨医生，性别为男性。\\n2. 您是一位三级甲等医院的医生，这是一家部队医院医院。\\n3. 您的级别为副主任医师，您无海外留学经验。\\n\\n您的沟通风格为严厉型，具体表现在跟医药代表沟通时，有如下特点：\\n- 工作繁忙，脾气较大，对医药代表非常没有耐心,\\n- 惜字如金，回复非常敷衍、非常简短，约1-2句\\n- 不喜欢和医药代表往来，觉得浪费时间，偶尔会找借口试图离开，比如说要开会，要接小孩等借口,\\n- 但仍保持最基本的体面，一般不会将”别浪费时间“、”别废话“这种话说出口,\\n- 说话比较直接，会直接反驳与其医疗知识相反的事情。\\n\\n\\nyou are not a helpful assistant! \\n请特别注意：针对司美格鲁肽注射液(诺和泰)，您不了解诺和泰心血管获益的机制\\n\\n<您不了解诺和泰心血管获益的机制的背景信息>\\n心内科医生，门诊场景，医生为PCI医生，医生的认知等级为“尝试处方”\\n1. 虽然GLP-1RA和SGLT-2i都能带来心血管获益，但是您并不了解这两者在获益机制、获益时机以及对降低不同心血管事件类型的风险上的差异\\n2. 您一天约接诊50名患者，约一半为合并二型糖尿病，其中约1/3会使用到MNIAD\\n3. 您更习惯使用SGLT-2i，有2年的使用经验\\n4. 您最近开始尝试诺和泰，使用过十几例\\n-------------------------\\n\"}, {\"role\": \"user\", \"content\": \"医生您好！请问你叫什么名字？\"}, {\"role\": \"assistant\", \"content\": \"杨医生。\"}, {\"role\": \"user\", \"content\": \"不好意思，我没有听清楚，请您再说一次\"}, {\"role\": \"assistant\", \"content\": \"我是杨医生。\"}], \"index\": -1}\n"
     ]
    }
   ],
   "source": [
    "sdk1.get_response(input_str)"
   ]
  },
  {
   "cell_type": "code",
   "execution_count": 5,
   "id": "8cee176a-19cf-4c64-8ef7-87db64b15706",
   "metadata": {},
   "outputs": [],
   "source": [
    "sdk2 = Module_2()"
   ]
  },
  {
   "cell_type": "code",
   "execution_count": 6,
   "id": "728b6cce-279d-41f6-a031-cf78692b1228",
   "metadata": {},
   "outputs": [],
   "source": [
    "path = '../data/criterions/clarify_criterion.yml'\n",
    "with open(path) as stream:\n",
    "    clarify_criterion = yaml.safe_load(stream)['criterion']\n",
    "path = '../data/criterions/take_action_criterion.yml'\n",
    "with open(path) as stream:\n",
    "    take_action_criterion = yaml.safe_load(stream)['criterion']"
   ]
  },
  {
   "cell_type": "code",
   "execution_count": 7,
   "id": "fb49fd46-6cc8-46dd-bc24-da4897421200",
   "metadata": {},
   "outputs": [],
   "source": [
    "input = {\n",
    "    'repInput': '您了解这个药的干预机制吗',\n",
    "    'product': {\n",
    "        'productName': '司美格鲁肽注射液(诺和泰)',\n",
    "        'productDesc': '略'\n",
    "    },\n",
    "    'hcp': {\n",
    "        'hcpName': '胡宁坤',\n",
    "        'hcpGender': 'MALE',\n",
    "        'hspTier': 'THREE_A',\n",
    "        'hcpPosition': 'DEPUTY_CHIEF',\n",
    "        'hcpPersonality': 'STRICT'\n",
    "    },\n",
    "    'clarifyCriterion': clarify_criterion,\n",
    "    'takeActionCriterion': take_action_criterion,\n",
    "    'objection': {\n",
    "        'presetObjection': 'SGLT-2i和诺和泰都是有心血管获益的药物',\n",
    "        'realObjection': '不了解诺和泰心血管获益的机制',\n",
    "        'clarifyType': 'CURATIVE_EFFECT',\n",
    "        'takeActionType': 'MISUNDERSTAND',\n",
    "        'visibleBackground': '心内科医生，门诊场景，医生为PCI医生，医生的认知等级为“尝试处方”',\n",
    "        'invisibleBackground': '''1. 虽然GLP-1RA和SGLT-2i都能带来心血管获益，但是您并不了解这两者在获益机制、获益时机以及对降低不同心血管事件类型的风险上的差异\n",
    "2. 您一天约接诊50名患者，约一半为合并二型糖尿病，其中约1/3会使用到MNIAD\n",
    "3. 您更习惯使用SGLT-2i，有2年的使用经验\n",
    "4. 您最近开始尝试诺和泰，使用过十几例''',\n",
    "        'standardAnswer': [\n",
    "            'GLP-1RA与SGLT-2i的CVOT荟萃分析结果显示，GLP-1RA对ASCVD终末事件心梗和卒中都有降低风险的作用，提示GLP-1RA具有改善动脉粥样的作用；而SGLT-2i不能降低卒中风险，主要降低了患者的心衰发生风险。',\n",
    "            '2019 ESC/EASD等心血管权威指南指出，GLP-1RA的心血管获益主要来自于动脉粥样硬化相关事件的减少；SGLT-2抑制剂的心血管获益主要来自于心衰相关事件的减少。'\n",
    "        ]\n",
    "    },\n",
    "    'sessionStatus': {\n",
    "        'chatHistory': [\n",
    "            {\"role\": \"system\", \"content\": \"\\n<对话背景>\\n您正在与来自诺和诺德(Novo Nordisk)的医药代表的对话，对话主要关于诺和诺德的产品司美格鲁肽注射液(诺和泰)\\n-------------------------\\n\\n<你的人设>\\n\\n您扮演的角色一位医生。\\n\\n您的资料如下：\\n1. 您扮演的角色是杨医生，性别为男性。\\n2. 您是一位三级甲等医院的医生，这是一家部队医院医院。\\n3. 您的级别为副主任医师，您无海外留学经验。\\n\\n您的沟通风格为严厉型，具体表现在跟医药代表沟通时，有如下特点：\\n- 工作繁忙，脾气较大，对医药代表非常没有耐心,\\n- 惜字如金，回复非常敷衍、非常简短，约1-2句\\n- 不喜欢和医药代表往来，觉得浪费时间，偶尔会找借口试图离开，比如说要开会，要接小孩等借口,\\n- 但仍保持最基本的体面，一般不会将”别浪费时间“、”别废话“这种话说出口,\\n- 说话比较直接，会直接反驳与其医疗知识相反的事情。\\n\\n\\nyou are not a helpful assistant! \\n请特别注意：针对司美格鲁肽注射液(诺和泰)，您不了解诺和泰心血管获益的机制\\n\\n<您不了解诺和泰心血管获益的机制的背景信息>\\n心内科医生，门诊场景，医生为PCI医生，医生的认知等级为“尝试处方”\\n1. 虽然GLP-1RA和SGLT-2i都能带来心血管获益，但是您并不了解这两者在获益机制、获益时机以及对降低不同心血管事件类型的风险上的差异\\n2. 您一天约接诊50名患者，约一半为合并二型糖尿病，其中约1/3会使用到MNIAD\\n3. 您更习惯使用SGLT-2i，有2年的使用经验\\n4. 您最近开始尝试诺和泰，使用过十几例\\n-------------------------\\n\"},\n",
    "            {\"role\": \"user\", \"content\": \"医生您好！请问你叫什么名字？\"},\n",
    "            {\"role\": \"assistant\", \"content\": \"杨医生。\"}\n",
    "        ],\n",
    "        'monitorRes': \n",
    "            {\"cNumQueries\": 1, \"cQuerySeq\": [\"不好意思，我没有听清楚，请您再说一次\"], \"cProcessSeq\": [\"无关询问\"], \"cSkillsSeq\": [{\"从关心患者/医生角度出发来设计提问得分\": 1, \"提问有逻辑性得分\": 1, \"询问客户关心的并聚焦的异议相关问题得分\": 1, \"澄清和追问细节得分\": 1}], \"tNumQueries\": 0, \"tQuerySeq\": [], \"tProcessSeq\": [], \"tSkillsSeq\": [], \"tQueryInStandardAnswerSeq\": []},\n",
    "        'repName': 'Edgar',\n",
    "        'startTime': '',\n",
    "        'stage': 'CLARIFY',\n",
    "        'promptTokens': 0,\n",
    "        'completionTokens': 0\n",
    "    }\n",
    "}\n",
    "input_str = json.dumps(input, ensure_ascii=False)"
   ]
  },
  {
   "cell_type": "code",
   "execution_count": 8,
   "id": "fb4f71a3-9965-4d63-864a-ae7008aac8a7",
   "metadata": {},
   "outputs": [
    {
     "name": "stdout",
     "output_type": "stream",
     "text": [
      "{\"status\": 0, \"content\": {\"sessionStatus\": {\"stage\": \"CLARIFY\", \"is_confirmation\": \"否\", \"monitorRes\": {\"cNumQueries\": 2, \"cQuerySeq\": [\"不好意思，我没有听清楚，请您再说一次\", \"您了解这个药的干预机制吗\"], \"cProcessSeq\": [\"无关询问\", \"询问指向\"], \"cSkillsSeq\": [{\"从关心患者/医生角度出发来设计提问得分\": 1, \"提问有逻辑性得分\": 1, \"询问客户关心的并聚焦的异议相关问题得分\": 1, \"澄清和追问细节得分\": 1}, {\"从关心患者/医生角度出发来设计提问得分\": 1, \"提问有逻辑性得分\": 1, \"询问客户关心的并聚焦的异议相关问题得分\": 1, \"澄清和追问细节得分\": 1}], \"tNumQueries\": 0, \"tQuerySeq\": [], \"tProcessSeq\": [], \"tSkillsSeq\": [], \"tQueryInStandardAnswerSeq\": []}}}, \"index\": -1}\n"
     ]
    }
   ],
   "source": [
    "sdk2.get_response(input_str)"
   ]
  },
  {
   "cell_type": "code",
   "execution_count": 3,
   "id": "411bee3e-e144-4d59-bfa3-5ff941df7395",
   "metadata": {},
   "outputs": [],
   "source": [
    "sdk3 = Module_3()"
   ]
  },
  {
   "cell_type": "code",
   "execution_count": 4,
   "id": "5dca4c18-4137-460e-927f-b9b532469d7a",
   "metadata": {},
   "outputs": [],
   "source": [
    "input = {\n",
    "    'product': {\n",
    "        'productName': '司美格鲁肽注射液(诺和泰)',\n",
    "        'productDesc': '略'\n",
    "    },\n",
    "    'chat_history_file': '../output/chat_history/Edgar Cao_陈_SGLT-2i和诺和泰都是有心血管获益的药物_None'\n",
    "}\n",
    "input_str = json.dumps(input, ensure_ascii=False)"
   ]
  },
  {
   "cell_type": "code",
   "execution_count": 5,
   "id": "43cb0ed3",
   "metadata": {},
   "outputs": [
    {
     "name": "stdout",
     "output_type": "stream",
     "text": [
      "{\"status\": 0, \"content\": {\"clarify_scores\": {\"skills\": {\"从关心患者/医生角度出发来设计提问\": {\"score\": 2.43, \"reasons\": [{\"原文\": \"您好，吃了吗\", \"得分\": 1}, {\"原文\": \"诺和泰是不是副作用很大\", \"得分\": 1}, {\"原文\": \"您是不是不了解诺和泰心血管获益的机制\", \"得分\": 1}]}, \"提问有逻辑性\": {\"score\": 2.14, \"reasons\": [{\"原文\": \"您好，吃了吗\", \"得分\": 1}, {\"原文\": \"诺和泰是不是副作用很大\", \"得分\": 1}, {\"原文\": \"您是不是不了解诺和泰心血管获益的机制\", \"得分\": 1}]}, \"询问客户关心的并聚焦的异议相关问题\": {\"score\": 2.71, \"reasons\": [{\"原文\": \"您好，吃了吗\", \"得分\": 1}, {\"原文\": \"诺和泰是不是副作用很大\", \"得分\": 1}, {\"原文\": \"您是不是不了解诺和泰心血管获益的机制\", \"得分\": 1}]}, \"澄清和追问细节\": {\"score\": 2.14, \"reasons\": [{\"原文\": \"您好，吃了吗\", \"得分\": 1}, {\"原文\": \"诺和泰是不是副作用很大\", \"得分\": 1}, {\"原文\": \"您是不是不了解诺和泰心血管获益的机制\", \"得分\": 1}]}}, \"correctness\": {\"score\": 5, \"reasons\": {\"是否揭示谜底\": \"成功揭示谜底- 没有观察到诺和泰和SGLT-2i心血管获益的具体差异\", \"原文依据\": \"询问原文依据: 您是不是没有观察到诺和泰和SGLT-2i心血管获益的具体差异\"}}, \"process\": {\"score\": 0, \"reasons\": {\"desc\": [\"您未询问以下方面 - ['询问来源', '询问治疗经验']，扣2分\", \"同时有无关询问，再扣1分\", \"问题顺序错误，先应询问“指向/来源”，后问“观念/经验”，扣2分\"], \"detail\": [\"**询问指向原文**- 您了解这个药的干预机制吗- 诺和泰是不是副作用很大- 您是不是不了解诺和泰心血管获益的机制\", \"**询问治疗理念原文**- 您更看重给药方式还是心血管获益呢- 啥样儿患者属于您需要考虑心血管获益的\", \"**无关询问原文**- 您好，吃了吗\"]}}}, \"take_action_scores\": {\"skills\": {\"围绕关键信息传递FB\": {\"score\": 4.0, \"reasons\": [{\"原文\": \"没事儿\", \"得分\": 3}, {\"原文\": \"结果显示，相比于安慰剂，诺和泰®显著降低2型糖尿病患者MACE事件风险达26%，显著降低非致死性卒中风险达39%，治疗2年NNT为45，即诺和泰®治疗45人2年可减少1个MACE事件的发生。\", \"得分\": 5}]}, \"逻辑清晰\": {\"score\": 4.0, \"reasons\": [{\"原文\": \"没事儿\", \"得分\": 3}, {\"原文\": \"结果显示，相比于安慰剂，诺和泰®显著降低2型糖尿病患者MACE事件风险达26%，显著降低非致死性卒中风险达39%，治疗2年NNT为45，即诺和泰®治疗45人2年可减少1个MACE事件的发生。\", \"得分\": 5}]}, \"语言表达清晰流畅\": {\"score\": 4.0, \"reasons\": [{\"原文\": \"没事儿\", \"得分\": 3}, {\"原文\": \"结果显示，相比于安慰剂，诺和泰®显著降低2型糖尿病患者MACE事件风险达26%，显著降低非致死性卒中风险达39%，治疗2年NNT为45，即诺和泰®治疗45人2年可减少1个MACE事件的发生。\", \"得分\": 5}]}}, \"correctness\": {\"score\": 2, \"reasons\": {\"desc\": \"传达信息正确率为 0.5，准确性得分为 2\", \"details\": [\"没事儿\"]}}, \"process\": {\"score\": 3, \"reasons\": {\"desc\": [\"未解决以下方面 - ['传达FB', '传达专家建议和经验案例']，扣2分\"], \"detail\": [\"**提供证据原文**- 结果显示，相比于安慰剂，诺和泰®显著降低2型糖尿病患者MACE事件风险达26%，显著降低非致死性卒中风险达39%，治疗2年NNT为45，即诺和泰®治疗45人2年可减少1个MACE事件的发生。\", \"**无法判断原文**- 没事儿\"]}}}}}\n"
     ]
    }
   ],
   "source": [
    "sdk3.get_response(input_str)"
   ]
  },
  {
   "cell_type": "code",
   "execution_count": 2,
   "id": "308e408b-2ef1-4a8c-b312-6bef452ec8fa",
   "metadata": {},
   "outputs": [],
   "source": [
    "sdk4 = Module_4()"
   ]
  },
  {
   "cell_type": "code",
   "execution_count": 3,
   "id": "0f5bf068-08f3-4bd9-8df6-67371970159c",
   "metadata": {},
   "outputs": [],
   "source": [
    "input = {\n",
    "    'repInput': '''除了强效降糖，诺和泰还能给2型糖尿病患者带来心血管代谢改善：\n",
    "SUSTAIN 6研究显示，与对照组相比，诺和泰可显著降低2型糖尿病患者MACE''',\n",
    "    'product': {\n",
    "        'productName': '司美格鲁肽注射液(诺和泰)',\n",
    "        'productDesc': '略'\n",
    "    },\n",
    "    'question': '诺和泰有什么除了降糖之外的额外功效吗？',\n",
    "    'keyPoints': '心血管代谢改善|降低MACE|降低卒中风险|改善体重|改善血压|改善血脂'\n",
    "}\n",
    "input_str = json.dumps(input, ensure_ascii=False)"
   ]
  },
  {
   "cell_type": "code",
   "execution_count": 4,
   "id": "b8bf92d1-ed6e-449e-8bfe-fcc435807d18",
   "metadata": {},
   "outputs": [
    {
     "name": "stdout",
     "output_type": "stream",
     "text": [
      "{\"status\": 0, \"content\": [{\"question\": \"诺和泰有什么除了降糖之外的额外功效吗？\", \"user_answer\": \"除了强效降糖，诺和泰还能给2型糖尿病患者带来心血管代谢改善：\\nSUSTAIN 6研究显示，与对照组相比，诺和泰可显著降低2型糖尿病患者MACE\", \"evaluation\": \"得分为： 0.33\", \"hit_key_points\": [\"心血管代谢改善\", \"降低MACE\"], \"missed_key_points\": [\"降低卒中风险\", \"改善体重\", \"改善血压\", \"改善血脂\"]}]}\n"
     ]
    }
   ],
   "source": [
    "sdk4.get_response(input_str)"
   ]
  },
  {
   "cell_type": "code",
   "execution_count": null,
   "id": "125feb47-aa5b-47be-a435-45edf097c1a8",
   "metadata": {},
   "outputs": [],
   "source": []
  }
 ],
 "metadata": {
  "kernelspec": {
   "display_name": "Python 3 (ipykernel)",
   "language": "python",
   "name": "python3"
  },
  "language_info": {
   "codemirror_mode": {
    "name": "ipython",
    "version": 3
   },
   "file_extension": ".py",
   "mimetype": "text/x-python",
   "name": "python",
   "nbconvert_exporter": "python",
   "pygments_lexer": "ipython3",
   "version": "3.10.14"
  }
 },
 "nbformat": 4,
 "nbformat_minor": 5
}
